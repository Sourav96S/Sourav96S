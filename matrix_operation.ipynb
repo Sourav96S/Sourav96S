{
  "nbformat": 4,
  "nbformat_minor": 0,
  "metadata": {
    "colab": {
      "provenance": [],
      "authorship_tag": "ABX9TyPCzpKyxnsZM5odSuWgPwKS",
      "include_colab_link": true
    },
    "kernelspec": {
      "name": "python3",
      "display_name": "Python 3"
    },
    "language_info": {
      "name": "python"
    }
  },
  "cells": [
    {
      "cell_type": "markdown",
      "metadata": {
        "id": "view-in-github",
        "colab_type": "text"
      },
      "source": [
        "<a href=\"https://colab.research.google.com/github/Sourav96S/Sourav96S/blob/main/matrix_operation.ipynb\" target=\"_parent\"><img src=\"https://colab.research.google.com/assets/colab-badge.svg\" alt=\"Open In Colab\"/></a>"
      ]
    },
    {
      "cell_type": "code",
      "source": [
        "import tensorflow as tf"
      ],
      "metadata": {
        "id": "gWnOhEZz9wvK"
      },
      "execution_count": 1,
      "outputs": []
    },
    {
      "cell_type": "code",
      "source": [
        "import numpy as np"
      ],
      "metadata": {
        "id": "1O-UJFqy9_Kj"
      },
      "execution_count": 2,
      "outputs": []
    },
    {
      "cell_type": "code",
      "source": [
        "import numpy as np\n",
        "\n",
        "\n",
        "\n",
        "tensor_2d = np.array([(1,2,3),(3,4,5),(5,6,7)])\n",
        "\n",
        "print(tensor_2d)\n",
        "\n",
        "tensor_2d[2]\n",
        "\n",
        "tensor_2d[2][2]\n",
        "\n",
        "import tensorflow as tf\n",
        "\n",
        "import numpy as np\n",
        "\n",
        "\n",
        "matrix_1 = np.array([(1,2,3),(2,3,4),(3,2,1)],dtype='int32')\n",
        "\n",
        "print(matrix_1)\n",
        "\n",
        "matrix_2 = np.array([(1,1,1),(1,1,1),(1,1,1)],dtype='int32')\n",
        "\n",
        "print(matrix_2)\n",
        "\n",
        "matrix_1 = tf.constant(matrix_1)\n",
        "\n",
        "print(matrix_1)\n",
        "\n",
        "matrix_2 = tf.constant(matrix_2)\n",
        "\n",
        "print(matrix_2)\n",
        "\n",
        "matrix_product = tf.matmul(matrix_1,matrix_2)\n",
        "\n",
        "print(matrix_product)\n",
        "\n"
      ],
      "metadata": {
        "colab": {
          "base_uri": "https://localhost:8080/"
        },
        "id": "htM8iosLAfXx",
        "outputId": "7d637e11-d4d5-4a4d-9f53-cde320720a34"
      },
      "execution_count": 3,
      "outputs": [
        {
          "output_type": "stream",
          "name": "stdout",
          "text": [
            "[[1 2 3]\n",
            " [3 4 5]\n",
            " [5 6 7]]\n",
            "[[1 2 3]\n",
            " [2 3 4]\n",
            " [3 2 1]]\n",
            "[[1 1 1]\n",
            " [1 1 1]\n",
            " [1 1 1]]\n",
            "tf.Tensor(\n",
            "[[1 2 3]\n",
            " [2 3 4]\n",
            " [3 2 1]], shape=(3, 3), dtype=int32)\n",
            "tf.Tensor(\n",
            "[[1 1 1]\n",
            " [1 1 1]\n",
            " [1 1 1]], shape=(3, 3), dtype=int32)\n",
            "tf.Tensor(\n",
            "[[6 6 6]\n",
            " [9 9 9]\n",
            " [6 6 6]], shape=(3, 3), dtype=int32)\n"
          ]
        }
      ]
    },
    {
      "cell_type": "code",
      "source": [
        "matrix_add = tf.add(matrix_1,matrix_2)\n",
        "matrix_add = tf.add(matrix_1,matrix_2)\n",
        "print(matrix_add)"
      ],
      "metadata": {
        "colab": {
          "base_uri": "https://localhost:8080/"
        },
        "id": "a7T9J2XWCGZQ",
        "outputId": "4934c925-fba8-4e39-f898-d83a3e39f9a2"
      },
      "execution_count": 4,
      "outputs": [
        {
          "output_type": "stream",
          "name": "stdout",
          "text": [
            "tf.Tensor(\n",
            "[[2 3 4]\n",
            " [3 4 5]\n",
            " [4 3 2]], shape=(3, 3), dtype=int32)\n"
          ]
        }
      ]
    }
  ]
}